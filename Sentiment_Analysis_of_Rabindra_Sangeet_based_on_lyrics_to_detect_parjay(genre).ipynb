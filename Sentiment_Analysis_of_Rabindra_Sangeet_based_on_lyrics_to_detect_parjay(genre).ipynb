{
  "nbformat": 4,
  "nbformat_minor": 0,
  "metadata": {
    "kernelspec": {
      "display_name": "Python 3",
      "language": "python",
      "name": "python3"
    },
    "language_info": {
      "codemirror_mode": {
        "name": "ipython",
        "version": 3
      },
      "file_extension": ".py",
      "mimetype": "text/x-python",
      "name": "python",
      "nbconvert_exporter": "python",
      "pygments_lexer": "ipython3",
      "version": "3.7.4"
    },
    "colab": {
      "name": "Sentiment Analysis of Rabindra Sangeet based on lyrics to detect parjay(genre).ipynb",
      "provenance": [],
      "collapsed_sections": []
    }
  },
  "cells": [
    {
      "cell_type": "code",
      "metadata": {
        "id": "DcnihxGDfUjR",
        "colab_type": "code",
        "colab": {
          "resources": {
            "http://localhost:8080/nbextensions/google.colab/files.js": {
              "data": "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",
              "ok": true,
              "headers": [
                [
                  "content-type",
                  "application/javascript"
                ]
              ],
              "status": 200,
              "status_text": ""
            }
          },
          "base_uri": "https://localhost:8080/",
          "height": 514
        },
        "outputId": "1f869c11-384b-486c-8348-bbcd877396cb"
      },
      "source": [
        "import pandas as pd\n",
        "import numpy as np\n",
        "from numpy import random\n",
        "import gensim\n",
        "import nltk\n",
        "from sklearn.feature_extraction.text import CountVectorizer\n",
        "from sklearn.metrics import accuracy_score\n",
        "import matplotlib.pyplot as plt\n",
        "import io\n",
        "from google.colab import files\n",
        "%matplotlib inline\n",
        "\n",
        "uploaded = files.upload()\n",
        "#data importing\n",
        "df = pd.read_excel(io.BytesIO(uploaded['train (2).xlsx']))\n",
        "df1 =pd.read_excel(io.BytesIO(uploaded['test (2).xlsx']))\n",
        "own_tag=['1','2','3','4','5']\n",
        "\n",
        "#data visualization\n",
        "print(df['Songs'])\n",
        "print(df1['Songs'])"
      ],
      "execution_count": null,
      "outputs": [
        {
          "output_type": "display_data",
          "data": {
            "text/html": [
              "\n",
              "     <input type=\"file\" id=\"files-32b7e795-cfe3-4422-9c7f-32c22a545703\" name=\"files[]\" multiple disabled\n",
              "        style=\"border:none\" />\n",
              "     <output id=\"result-32b7e795-cfe3-4422-9c7f-32c22a545703\">\n",
              "      Upload widget is only available when the cell has been executed in the\n",
              "      current browser session. Please rerun this cell to enable.\n",
              "      </output>\n",
              "      <script src=\"/nbextensions/google.colab/files.js\"></script> "
            ],
            "text/plain": [
              "<IPython.core.display.HTML object>"
            ]
          },
          "metadata": {
            "tags": []
          }
        },
        {
          "output_type": "stream",
          "text": [
            "Saving test (2).xlsx to test (2).xlsx\n",
            "Saving train (2).xlsx to train (2).xlsx\n",
            "0       বিশ্ববীণারবে বিশ্বজন মোহিছে।\\nস্থলে জলে নভতলে ...\n",
            "1       কুসুমে কুসুমে চরণচিহ্ন   দিয়ে যাও, শেষে  দাও ম...\n",
            "2       একি  আকুলতা ভুবনে!  একি  চঞ্চলতা পবনে॥\\nএকি  ম...\n",
            "3       আজ  তালের বনের করতালি  কিসের তালে\\nপূর্ণিমাচাঁ...\n",
            "4       আঁধার কুঁড়ির বাঁধন টুটে  চাঁদের ফুল উঠেছে ফুটে...\n",
            "                              ...                        \n",
            "1049     দুঃখ যে তোর নয় রে চিরন্তন–\\n      পার আছে রে ...\n",
            "1050      মরণসাগরপারে তোমরা অমর,\\n                  তো...\n",
            "1051      যেতে যদি হয় হবে–\\n                 যাব, যাব,...\n",
            "1052       পথের   শেষ কোথায়, শেষ কোথায়,    কী আছে শেষে...\n",
            "1053    \\n         যাত্রাবেলায় রুদ্র রবে     বন্ধনডোর ...\n",
            "Name: Songs, Length: 1054, dtype: object\n",
            "0      কোন্‌  সুদূর হতে আমার মনোমাঝে\\n       বাণীর ধা...\n",
            "1      আকাশ হতে আকাশ-পথে হাজার স্রোতে\\n           ঝরছ...\n",
            "2      আলোক-চোরা লুকিয়ে এল ওই–\\n              তিমিরজয়...\n",
            "3      জাগ’   আলসশয়নবিলগ্ন।\\n               জাগ’   তা...\n",
            "4      তোমার আসন শূন্য আজি হে বীর পূর্ণ করো–\\n     ওই...\n",
            "                             ...                        \n",
            "316     আঁধার এল ব’লে\\n         তাই তো ঘরে উঠল আলো জ্...\n",
            "317     রূপসাগরে ডুব দিয়েছি অরূপরতন আশা করি,\\n     ঘা...\n",
            "318      কেন রে এই দুয়ারটুকু পার হতে সংশয়?\\n         ...\n",
            "319      জয় ভৈরব, জয় শঙ্কর!\\n           জয়   জয় জয় প্...\n",
            "320      আজকে মোরে বোলো না কাজ করতে,\\n          যাব আ...\n",
            "Name: Songs, Length: 321, dtype: object\n"
          ],
          "name": "stdout"
        }
      ]
    },
    {
      "cell_type": "markdown",
      "metadata": {
        "id": "NKEtxVfrxa2s",
        "colab_type": "text"
      },
      "source": [
        ""
      ]
    },
    {
      "cell_type": "code",
      "metadata": {
        "id": "e-WXYiw-xb9b",
        "colab_type": "code",
        "colab": {}
      },
      "source": [
        ""
      ],
      "execution_count": null,
      "outputs": []
    },
    {
      "cell_type": "code",
      "metadata": {
        "id": "rEzRv8cMfUjm",
        "colab_type": "code",
        "colab": {
          "base_uri": "https://localhost:8080/",
          "height": 425
        },
        "outputId": "3fb18728-c139-434c-b6eb-960a21451916"
      },
      "source": [
        "import re\n",
        "REPLACE_BY_SPACE_RE = re.compile('[/(){}—\\[\\]\\|@,;‘?|।!`-॥–’-]')\n",
        "\n",
        "def clean_text(text):\n",
        "    \"\"\"\n",
        "        text: a string\n",
        "        \n",
        "        return: modified initial string\n",
        "    \"\"\"\n",
        "    text = text.replace('\\n',' ')\n",
        "    text = REPLACE_BY_SPACE_RE.sub(' ', text) # replace REPLACE_BY_SPACE_RE symbols by space in text\n",
        "    return text\n",
        "\n",
        "df['Songs'] = df['Songs'].apply(clean_text)\n",
        "\n",
        "df1['Songs'] = df1['Songs'].apply(clean_text)\n",
        "\n",
        "print(df['Songs'])\n",
        "print(df1['Songs'])"
      ],
      "execution_count": null,
      "outputs": [
        {
          "output_type": "stream",
          "text": [
            "0       বিশ্ববীণারবে বিশ্বজন মোহিছে  স্থলে জলে নভতলে ব...\n",
            "1       কুসুমে কুসুমে চরণচিহ্ন   দিয়ে যাও  শেষে  দাও ম...\n",
            "2       একি  আকুলতা ভুবনে   একি  চঞ্চলতা পবনে  একি  মধ...\n",
            "3       আজ  তালের বনের করতালি  কিসের তালে পূর্ণিমাচাঁদ...\n",
            "4       আঁধার কুঁড়ির বাঁধন টুটে  চাঁদের ফুল উঠেছে ফুটে...\n",
            "                              ...                        \n",
            "1049     দুঃখ যে তোর নয় রে চিরন্তন        পার আছে রে এ...\n",
            "1050      মরণসাগরপারে তোমরা অমর                    তোম...\n",
            "1051      যেতে যদি হয় হবে                   যাব  যাব  ...\n",
            "1052       পথের   শেষ কোথায়  শেষ কোথায়     কী আছে শেষে...\n",
            "1053              যাত্রাবেলায় রুদ্র রবে     বন্ধনডোর ছ...\n",
            "Name: Songs, Length: 1054, dtype: object\n",
            "0      কোন্‌  সুদূর হতে আমার মনোমাঝে        বাণীর ধার...\n",
            "1      আকাশ হতে আকাশ পথে হাজার স্রোতে            ঝরছে...\n",
            "2      আলোক চোরা লুকিয়ে এল ওই                তিমিরজয়ী...\n",
            "3      জাগ    আলসশয়নবিলগ্ন                 জাগ    তাম...\n",
            "4      তোমার আসন শূন্য আজি হে বীর পূর্ণ করো       ওই ...\n",
            "                             ...                        \n",
            "316     আঁধার এল ব লে          তাই তো ঘরে উঠল আলো জ্ব...\n",
            "317     রূপসাগরে ডুব দিয়েছি অরূপরতন আশা করি       ঘাট...\n",
            "318      কেন রে এই দুয়ারটুকু পার হতে সংশয়            ...\n",
            "319      জয় ভৈরব  জয় শঙ্কর             জয়   জয় জয় প্র...\n",
            "320      আজকে মোরে বোলো না কাজ করতে            যাব আম...\n",
            "Name: Songs, Length: 321, dtype: object\n"
          ],
          "name": "stdout"
        }
      ]
    },
    {
      "cell_type": "code",
      "metadata": {
        "id": "YDATqraAfUjx",
        "colab_type": "code",
        "colab": {
          "base_uri": "https://localhost:8080/",
          "height": 799
        },
        "outputId": "348dbca8-15bc-4af3-c121-5d60ffedb50c"
      },
      "source": [
        "X_train = df.Songs\n",
        "y_train = df.Tag\n",
        "X_test=df1.Songs\n",
        "y_test=df1.Tag\n",
        "\n",
        "print(X_train,y_train)\n",
        "print(X_test,y_test)"
      ],
      "execution_count": null,
      "outputs": [
        {
          "output_type": "stream",
          "text": [
            "0       বিশ্ববীণারবে বিশ্বজন মোহিছে  স্থলে জলে নভতলে ব...\n",
            "1       কুসুমে কুসুমে চরণচিহ্ন   দিয়ে যাও  শেষে  দাও ম...\n",
            "2       একি  আকুলতা ভুবনে   একি  চঞ্চলতা পবনে  একি  মধ...\n",
            "3       আজ  তালের বনের করতালি  কিসের তালে পূর্ণিমাচাঁদ...\n",
            "4       আঁধার কুঁড়ির বাঁধন টুটে  চাঁদের ফুল উঠেছে ফুটে...\n",
            "                              ...                        \n",
            "1049     দুঃখ যে তোর নয় রে চিরন্তন        পার আছে রে এ...\n",
            "1050      মরণসাগরপারে তোমরা অমর                    তোম...\n",
            "1051      যেতে যদি হয় হবে                   যাব  যাব  ...\n",
            "1052       পথের   শেষ কোথায়  শেষ কোথায়     কী আছে শেষে...\n",
            "1053              যাত্রাবেলায় রুদ্র রবে     বন্ধনডোর ছ...\n",
            "Name: Songs, Length: 1054, dtype: object 0       1\n",
            "1       1\n",
            "2       1\n",
            "3       1\n",
            "4       1\n",
            "       ..\n",
            "1049    2\n",
            "1050    2\n",
            "1051    2\n",
            "1052    2\n",
            "1053    2\n",
            "Name: Tag, Length: 1054, dtype: int64\n",
            "0      কোন্‌  সুদূর হতে আমার মনোমাঝে        বাণীর ধার...\n",
            "1      আকাশ হতে আকাশ পথে হাজার স্রোতে            ঝরছে...\n",
            "2      আলোক চোরা লুকিয়ে এল ওই                তিমিরজয়ী...\n",
            "3      জাগ    আলসশয়নবিলগ্ন                 জাগ    তাম...\n",
            "4      তোমার আসন শূন্য আজি হে বীর পূর্ণ করো       ওই ...\n",
            "                             ...                        \n",
            "316     আঁধার এল ব লে          তাই তো ঘরে উঠল আলো জ্ব...\n",
            "317     রূপসাগরে ডুব দিয়েছি অরূপরতন আশা করি       ঘাট...\n",
            "318      কেন রে এই দুয়ারটুকু পার হতে সংশয়            ...\n",
            "319      জয় ভৈরব  জয় শঙ্কর             জয়   জয় জয় প্র...\n",
            "320      আজকে মোরে বোলো না কাজ করতে            যাব আম...\n",
            "Name: Songs, Length: 321, dtype: object 0      3\n",
            "1      3\n",
            "2      3\n",
            "3      3\n",
            "4      3\n",
            "      ..\n",
            "316    2\n",
            "317    2\n",
            "318    2\n",
            "319    2\n",
            "320    2\n",
            "Name: Tag, Length: 321, dtype: int64\n"
          ],
          "name": "stdout"
        }
      ]
    },
    {
      "cell_type": "code",
      "metadata": {
        "id": "H9O_9V6EfUj9",
        "colab_type": "code",
        "colab": {
          "base_uri": "https://localhost:8080/",
          "height": 683
        },
        "outputId": "84177537-4f08-4a06-e822-aed6f19d25a7"
      },
      "source": [
        "#Naive Bayes classification\n",
        "\n",
        "from sklearn.naive_bayes import MultinomialNB\n",
        "from sklearn.pipeline import Pipeline\n",
        "from sklearn.feature_extraction.text import TfidfTransformer\n",
        "\n",
        "nb = Pipeline([('vect', CountVectorizer()),\n",
        "               ('tfidf', TfidfTransformer()),\n",
        "               ('clf', MultinomialNB()),\n",
        "              ])\n",
        "nb.fit(X_train, y_train)\n",
        "\n",
        "%time\n",
        "from sklearn.metrics import classification_report\n",
        "y_pred = nb.predict(X_test)\n",
        "\n",
        "print('accuracy %s' % accuracy_score(y_pred, y_test))\n",
        "print(classification_report(y_test, y_pred,target_names=own_tag))\n",
        "print(y_pred)\n",
        "print(y_test)"
      ],
      "execution_count": null,
      "outputs": [
        {
          "output_type": "stream",
          "text": [
            "CPU times: user 2 µs, sys: 0 ns, total: 2 µs\n",
            "Wall time: 5.48 µs\n",
            "accuracy 0.4672897196261682\n",
            "              precision    recall  f1-score   support\n",
            "\n",
            "           1       0.80      0.06      0.12        62\n",
            "           2       0.46      1.00      0.63       142\n",
            "           3       0.00      0.00      0.00        36\n",
            "           4       0.50      0.06      0.10        70\n",
            "           5       0.00      0.00      0.00        11\n",
            "\n",
            "    accuracy                           0.47       321\n",
            "   macro avg       0.35      0.22      0.17       321\n",
            "weighted avg       0.47      0.47      0.32       321\n",
            "\n",
            "[2 2 2 2 2 2 2 2 2 2 2 2 2 2 2 2 2 2 2 2 2 2 2 2 2 2 2 2 2 2 2 2 2 2 2 2 2\n",
            " 2 2 2 2 2 2 2 2 4 2 2 2 2 2 2 2 2 2 4 2 2 2 2 2 2 2 2 2 2 4 2 2 2 2 2 2 2\n",
            " 2 2 2 2 2 2 1 4 2 2 2 4 2 2 1 2 2 2 2 2 2 2 2 2 1 2 2 2 2 4 2 2 2 2 1 2 2\n",
            " 2 2 2 2 2 2 2 2 2 2 2 2 2 2 2 2 2 2 2 2 2 2 2 2 2 2 2 2 2 2 2 2 2 2 2 2 2\n",
            " 2 2 2 2 2 2 2 2 2 2 2 2 2 2 2 2 2 2 2 2 2 2 2 2 2 2 4 2 2 2 2 2 2 2 2 2 2\n",
            " 2 2 2 2 2 2 2 1 2 2 2 2 2 2 2 2 2 2 2 2 2 2 2 2 4 2 2 2 2 2 2 2 2 2 2 2 2\n",
            " 2 2 2 2 2 2 2 2 2 2 2 2 2 2 2 2 2 2 2 2 2 2 2 2 2 2 2 2 2 2 2 2 2 2 2 2 2\n",
            " 2 2 2 2 2 2 2 2 2 2 2 2 2 2 2 2 2 2 2 2 2 2 2 2 2 2 2 2 2 2 2 2 2 2 2 2 2\n",
            " 2 2 2 2 2 2 2 2 2 2 2 2 2 2 2 2 2 2 2 2 2 2 2 2 2]\n",
            "0      3\n",
            "1      3\n",
            "2      3\n",
            "3      3\n",
            "4      3\n",
            "      ..\n",
            "316    2\n",
            "317    2\n",
            "318    2\n",
            "319    2\n",
            "320    2\n",
            "Name: Tag, Length: 321, dtype: int64\n"
          ],
          "name": "stdout"
        },
        {
          "output_type": "stream",
          "text": [
            "/usr/local/lib/python3.6/dist-packages/sklearn/metrics/_classification.py:1272: UndefinedMetricWarning: Precision and F-score are ill-defined and being set to 0.0 in labels with no predicted samples. Use `zero_division` parameter to control this behavior.\n",
            "  _warn_prf(average, modifier, msg_start, len(result))\n"
          ],
          "name": "stderr"
        }
      ]
    },
    {
      "cell_type": "code",
      "metadata": {
        "id": "uJfJHM5zfUkK",
        "colab_type": "code",
        "colab": {
          "base_uri": "https://localhost:8080/",
          "height": 479
        },
        "outputId": "0f3c2bbd-1fe6-47a4-dc24-8cda248723f6"
      },
      "source": [
        "#SVM METHOD\n",
        "\n",
        "from sklearn.linear_model import SGDClassifier\n",
        "\n",
        "sgd = Pipeline([('vect', CountVectorizer()),\n",
        "                ('tfidf', TfidfTransformer()),\n",
        "                ('clf', SGDClassifier(loss='hinge', penalty='l2',alpha=1e-3, max_iter=5000, tol=1e-2, learning_rate='adaptive',eta0=0.1, validation_fraction=0.3)),\n",
        "               ])\n",
        "sgd.fit(X_train, y_train)\n",
        "\n",
        "%time\n",
        "\n",
        "y_pred = sgd.predict(X_test)\n",
        "\n",
        "print('accuracy %s' % accuracy_score(y_pred, y_test))\n",
        "print(classification_report(y_test, y_pred,target_names=own_tag))\n",
        "print(y_pred)"
      ],
      "execution_count": null,
      "outputs": [
        {
          "output_type": "stream",
          "text": [
            "CPU times: user 2 µs, sys: 1 µs, total: 3 µs\n",
            "Wall time: 4.53 µs\n",
            "accuracy 0.6012461059190031\n",
            "              precision    recall  f1-score   support\n",
            "\n",
            "           1       0.59      0.61      0.60        62\n",
            "           2       0.63      0.88      0.74       142\n",
            "           3       0.40      0.06      0.10        36\n",
            "           4       0.52      0.40      0.45        70\n",
            "           5       0.00      0.00      0.00        11\n",
            "\n",
            "    accuracy                           0.60       321\n",
            "   macro avg       0.43      0.39      0.38       321\n",
            "weighted avg       0.55      0.60      0.55       321\n",
            "\n",
            "[4 2 2 2 2 2 2 2 2 4 2 2 1 2 2 2 2 2 2 2 2 2 2 2 2 2 2 2 2 2 2 1 4 2 2 2 2\n",
            " 2 2 4 2 4 2 2 1 4 2 2 4 2 2 2 2 4 2 4 2 4 4 2 1 2 4 4 2 2 4 4 2 4 1 4 1 2\n",
            " 4 2 2 1 1 1 1 1 4 2 1 1 4 2 1 1 1 4 1 1 1 1 4 2 1 2 1 4 2 1 2 1 2 1 1 1 2\n",
            " 1 2 1 1 1 1 1 1 1 2 3 2 1 4 1 4 4 1 2 2 2 2 3 2 1 2 2 2 2 2 2 1 1 3 4 1 2\n",
            " 2 2 2 2 2 4 4 2 2 2 2 2 2 2 2 1 2 2 2 2 2 2 2 2 4 1 1 2 1 4 2 1 1 1 1 4 4\n",
            " 1 3 1 2 2 4 4 1 4 4 2 4 4 2 2 1 4 2 1 4 4 1 4 4 1 2 1 2 2 1 1 4 1 4 4 2 2\n",
            " 2 2 4 2 2 2 2 2 2 2 2 2 2 2 2 2 2 2 2 2 2 2 2 2 2 2 2 2 2 1 2 2 2 1 2 2 2\n",
            " 2 2 2 2 2 2 2 4 4 2 4 2 2 2 2 2 2 2 2 2 2 2 2 2 2 2 2 2 2 2 2 2 1 2 2 2 2\n",
            " 2 2 2 2 2 3 2 4 2 2 2 2 2 4 4 2 2 2 2 2 2 2 2 2 2]\n"
          ],
          "name": "stdout"
        },
        {
          "output_type": "stream",
          "text": [
            "/usr/local/lib/python3.6/dist-packages/sklearn/metrics/_classification.py:1272: UndefinedMetricWarning: Precision and F-score are ill-defined and being set to 0.0 in labels with no predicted samples. Use `zero_division` parameter to control this behavior.\n",
            "  _warn_prf(average, modifier, msg_start, len(result))\n"
          ],
          "name": "stderr"
        }
      ]
    },
    {
      "cell_type": "code",
      "metadata": {
        "id": "2Sd3i3mefUkT",
        "colab_type": "code",
        "colab": {
          "base_uri": "https://localhost:8080/",
          "height": 425
        },
        "outputId": "f0af03b2-c0f0-4be4-af6d-db796e844d5b"
      },
      "source": [
        "#perceptron \n",
        "from sklearn.linear_model import Perceptron\n",
        "nb = Pipeline([('vect', CountVectorizer()),\n",
        "               ('tfidf', TfidfTransformer()),\n",
        "               ('clf', Perceptron(max_iter=5000,random_state=1, eta0=0.001,penalty='elasticnet',tol=1e-3, alpha=1e-3)),\n",
        "              ])\n",
        "nb.fit(X_train, y_train)\n",
        "\n",
        "%time\n",
        "from sklearn.metrics import classification_report\n",
        "y_pred = nb.predict(X_test)\n",
        "\n",
        "print('accuracy %s' % accuracy_score(y_pred, y_test))\n",
        "print(classification_report(y_test, y_pred,target_names=own_tag))\n",
        "print(y_pred)"
      ],
      "execution_count": null,
      "outputs": [
        {
          "output_type": "stream",
          "text": [
            "CPU times: user 1 µs, sys: 0 ns, total: 1 µs\n",
            "Wall time: 4.77 µs\n",
            "accuracy 0.5109034267912772\n",
            "              precision    recall  f1-score   support\n",
            "\n",
            "           1       0.47      0.52      0.49        62\n",
            "           2       0.60      0.72      0.65       142\n",
            "           3       0.22      0.11      0.15        36\n",
            "           4       0.43      0.37      0.40        70\n",
            "           5       0.00      0.00      0.00        11\n",
            "\n",
            "    accuracy                           0.51       321\n",
            "   macro avg       0.35      0.34      0.34       321\n",
            "weighted avg       0.48      0.51      0.49       321\n",
            "\n",
            "[2 2 2 2 1 2 2 2 2 2 2 2 1 2 2 3 2 2 5 2 2 2 2 2 2 2 2 4 2 2 2 4 2 2 2 2 2\n",
            " 2 2 4 4 4 2 2 1 1 2 2 4 2 2 2 2 4 2 4 2 4 1 2 3 4 4 4 4 5 4 4 2 2 1 4 1 2\n",
            " 4 2 2 1 3 1 2 4 4 1 1 1 2 2 1 2 2 1 1 1 1 1 4 2 1 4 3 1 2 1 2 1 2 1 1 1 2\n",
            " 1 2 1 1 2 1 2 3 2 2 3 2 1 4 4 4 2 1 4 4 4 2 3 2 2 2 2 3 2 2 4 1 4 2 2 3 3\n",
            " 4 1 1 2 2 2 4 2 2 1 2 4 2 2 4 4 2 4 2 4 2 2 2 2 1 2 1 2 2 1 2 4 1 1 1 1 4\n",
            " 1 1 1 2 3 4 4 1 4 3 2 4 1 2 4 1 1 2 1 2 4 1 4 4 1 3 1 1 2 1 1 3 1 4 4 1 2\n",
            " 2 4 2 1 2 2 3 2 1 2 2 2 2 2 2 3 4 3 5 2 2 2 2 2 2 2 2 2 2 1 2 2 2 1 2 2 2\n",
            " 2 2 2 2 2 2 2 4 4 2 4 4 2 2 2 2 2 4 2 2 2 4 2 2 2 2 2 1 5 2 2 2 2 1 2 2 2\n",
            " 1 2 2 2 2 1 2 4 2 2 1 2 3 4 4 5 2 2 2 2 1 2 2 2 4]\n"
          ],
          "name": "stdout"
        }
      ]
    },
    {
      "cell_type": "code",
      "metadata": {
        "id": "ZkUFAmI3fUkf",
        "colab_type": "code",
        "colab": {
          "base_uri": "https://localhost:8080/",
          "height": 785
        },
        "outputId": "1decacec-6f43-4093-f9f3-a669402e2eab"
      },
      "source": [
        "#RNN\n",
        "from sklearn.feature_extraction.text import CountVectorizer\n",
        "from sklearn.ensemble import RandomForestClassifier\n",
        "from sklearn.pipeline import Pipeline\n",
        "from sklearn.metrics import accuracy_score\n",
        "def accuracy_summary(pipeline, X_train, y_train, X_test, y_test):\n",
        "    sentiment_fit = pipeline.fit(X_train, y_train)\n",
        "    y_pred = sentiment_fit.predict(X_test)\n",
        "    accuracy = accuracy_score(y_test, y_pred)\n",
        "    print(\"accuracy score: {0:.2f}%\".format(accuracy*100))\n",
        "    return accuracy\n",
        "\n",
        "\n",
        "\n",
        "cv = CountVectorizer()\n",
        "rf = RandomForestClassifier(class_weight=\"balanced\")\n",
        "n_features = np.arange(10000,25001,5000)\n",
        "def nfeature_accuracy_checker(vectorizer=cv, n_features=n_features, stop_words=None, ngram_range=(1, 3), classifier=rf):\n",
        "    result = []\n",
        "    print(classifier)\n",
        "    print(\"\\n\")\n",
        "    for n in n_features:\n",
        "        vectorizer.set_params(stop_words=stop_words, max_features=n, ngram_range=ngram_range)\n",
        "        checker_pipeline = Pipeline([\n",
        "            ('vectorizer', vectorizer),\n",
        "            ('classifier', classifier)\n",
        "        ])\n",
        "        print(\"Test result for {} features\".format(n))\n",
        "        nfeature_accuracy = accuracy_summary(checker_pipeline, X_train, y_train, X_test, y_test)\n",
        "        result.append((n,nfeature_accuracy))\n",
        "    return result\n",
        "from sklearn.feature_extraction.text import TfidfVectorizer\n",
        "tfidf = TfidfVectorizer(encoding='utf-8')\n",
        "print(\"Result for trigram with stop words (Tfidf)\\n\")\n",
        "feature_result_tgt = nfeature_accuracy_checker(vectorizer=tfidf,ngram_range=(1, 2))\n",
        "\n",
        "\n",
        "\n",
        "from sklearn.metrics import classification_report\n",
        "cv = CountVectorizer(max_features=20000,ngram_range=(1, 2))\n",
        "pipeline = Pipeline([\n",
        "        ('vectorizer', cv),\n",
        "        ('classifier', rf)\n",
        "    ])\n",
        "sentiment_fit = pipeline.fit(X_train, y_train)\n",
        "y_pred = sentiment_fit.predict(X_test)\n",
        "\n",
        "\n",
        "print(classification_report(y_test, y_pred, target_names=['parjay 1','parjay 2','parjay 3','parjay 4','parjay 5']))\n",
        "print('accuracy %s' % accuracy_score(y_pred, y_test))\n",
        "print(y_pred)"
      ],
      "execution_count": null,
      "outputs": [
        {
          "output_type": "stream",
          "text": [
            "Result for trigram with stop words (Tfidf)\n",
            "\n",
            "RandomForestClassifier(bootstrap=True, ccp_alpha=0.0, class_weight='balanced',\n",
            "                       criterion='gini', max_depth=None, max_features='auto',\n",
            "                       max_leaf_nodes=None, max_samples=None,\n",
            "                       min_impurity_decrease=0.0, min_impurity_split=None,\n",
            "                       min_samples_leaf=1, min_samples_split=2,\n",
            "                       min_weight_fraction_leaf=0.0, n_estimators=100,\n",
            "                       n_jobs=None, oob_score=False, random_state=None,\n",
            "                       verbose=0, warm_start=False)\n",
            "\n",
            "\n",
            "Test result for 10000 features\n",
            "accuracy score: 53.27%\n",
            "Test result for 15000 features\n",
            "accuracy score: 49.53%\n",
            "Test result for 20000 features\n",
            "accuracy score: 50.78%\n",
            "Test result for 25000 features\n",
            "accuracy score: 50.47%\n",
            "              precision    recall  f1-score   support\n",
            "\n",
            "    parjay 1       0.70      0.23      0.34        62\n",
            "    parjay 2       0.48      0.98      0.65       142\n",
            "    parjay 3       0.00      0.00      0.00        36\n",
            "    parjay 4       0.54      0.10      0.17        70\n",
            "    parjay 5       0.00      0.00      0.00        11\n",
            "\n",
            "    accuracy                           0.50       321\n",
            "   macro avg       0.34      0.26      0.23       321\n",
            "weighted avg       0.47      0.50      0.39       321\n",
            "\n",
            "accuracy 0.4984423676012461\n",
            "[2 2 2 2 2 2 2 2 2 2 2 2 2 2 2 2 2 2 2 2 2 2 2 2 2 2 2 2 2 2 2 2 2 2 2 2 2\n",
            " 2 2 4 2 4 2 2 2 2 2 2 4 2 2 2 2 2 2 2 2 2 2 2 2 2 2 2 2 2 2 2 2 2 2 2 2 2\n",
            " 2 2 2 2 2 2 2 2 2 2 2 2 2 2 1 2 2 2 2 2 2 2 1 2 1 2 2 2 2 1 2 2 2 2 2 2 2\n",
            " 1 2 1 2 1 2 1 1 2 2 2 2 2 4 2 4 2 2 2 2 2 2 2 2 2 2 2 2 2 2 2 2 2 2 4 2 2\n",
            " 4 2 2 2 2 2 4 2 2 2 2 2 2 2 2 2 2 2 2 2 2 2 2 2 2 1 1 2 2 1 2 1 1 2 2 2 2\n",
            " 4 2 2 2 2 2 2 1 2 2 2 4 2 2 2 1 1 2 1 2 4 2 2 4 2 2 1 2 2 2 2 2 1 2 2 2 2\n",
            " 2 2 2 2 2 2 2 2 2 2 2 2 2 2 2 2 2 2 2 2 2 2 2 2 2 2 2 2 2 2 2 2 2 2 2 2 2\n",
            " 2 2 2 2 2 2 2 2 2 2 2 2 2 2 2 2 2 2 2 2 2 2 2 2 2 2 2 2 2 2 2 2 2 2 2 2 2\n",
            " 2 2 2 2 2 2 2 2 2 2 2 4 2 2 2 2 2 2 2 2 2 2 2 2 2]\n"
          ],
          "name": "stdout"
        },
        {
          "output_type": "stream",
          "text": [
            "/usr/local/lib/python3.6/dist-packages/sklearn/metrics/_classification.py:1272: UndefinedMetricWarning: Precision and F-score are ill-defined and being set to 0.0 in labels with no predicted samples. Use `zero_division` parameter to control this behavior.\n",
            "  _warn_prf(average, modifier, msg_start, len(result))\n"
          ],
          "name": "stderr"
        }
      ]
    },
    {
      "cell_type": "code",
      "metadata": {
        "id": "9ntqCtlxfUkl",
        "colab_type": "code",
        "colab": {
          "base_uri": "https://localhost:8080/",
          "height": 425
        },
        "outputId": "e45a8f7c-aa19-445b-d9c1-708b17d61591"
      },
      "source": [
        "#Multi Layer Perceptron Classifier\n",
        "from sklearn.neural_network import MLPClassifier\n",
        "\n",
        "mlp = Pipeline([('vect', CountVectorizer()),\n",
        "                ('tfidf', TfidfTransformer()),\n",
        "                ('clf', MLPClassifier(solver='lbfgs', alpha=1e-3,activation='identity', hidden_layer_sizes=(15,), random_state=1)),\n",
        "               ])\n",
        "mlp.fit(X_train, y_train)\n",
        "\n",
        "%time\n",
        "\n",
        "y_pred = mlp.predict(X_test)\n",
        "\n",
        "print('accuracy %s' % accuracy_score(y_pred, y_test))\n",
        "print(classification_report(y_test, y_pred,target_names=own_tag))\n",
        "print(y_pred)"
      ],
      "execution_count": null,
      "outputs": [
        {
          "output_type": "stream",
          "text": [
            "CPU times: user 5 µs, sys: 1 µs, total: 6 µs\n",
            "Wall time: 6.68 µs\n",
            "accuracy 0.4953271028037383\n",
            "              precision    recall  f1-score   support\n",
            "\n",
            "           1       0.43      0.42      0.42        62\n",
            "           2       0.63      0.70      0.66       142\n",
            "           3       0.16      0.11      0.13        36\n",
            "           4       0.39      0.43      0.41        70\n",
            "           5       0.00      0.00      0.00        11\n",
            "\n",
            "    accuracy                           0.50       321\n",
            "   macro avg       0.32      0.33      0.32       321\n",
            "weighted avg       0.46      0.50      0.48       321\n",
            "\n",
            "[2 2 2 2 1 2 2 2 3 1 2 1 1 2 2 3 4 1 2 2 2 2 2 2 2 2 2 4 2 3 2 1 2 2 2 2 2\n",
            " 2 4 4 4 4 2 2 1 4 4 2 4 2 2 2 2 3 2 4 2 3 1 2 1 4 4 4 4 3 4 4 2 4 1 3 1 2\n",
            " 4 2 2 1 3 4 4 4 4 2 1 1 4 2 1 1 2 4 1 1 2 1 4 2 1 3 1 1 2 4 2 1 2 1 1 2 2\n",
            " 1 2 1 1 2 1 1 4 3 2 3 2 1 4 4 4 4 1 4 1 4 4 3 2 2 2 2 2 2 2 4 1 4 2 2 3 2\n",
            " 4 2 2 2 3 4 4 2 2 4 2 4 2 3 2 1 2 4 2 4 2 2 3 2 1 2 1 4 2 4 2 4 1 1 1 1 4\n",
            " 1 3 4 2 2 4 4 1 4 3 2 4 1 2 4 1 1 4 1 2 4 1 4 4 1 3 1 4 2 1 1 4 1 4 4 2 2\n",
            " 2 2 2 2 2 3 3 2 1 2 2 2 2 2 2 2 4 3 5 2 4 2 2 2 2 2 2 2 2 1 4 2 2 1 2 2 2\n",
            " 2 2 2 4 2 2 2 4 4 2 4 4 2 2 2 2 3 2 2 2 2 4 2 2 2 2 2 2 4 2 2 2 4 4 2 2 2\n",
            " 1 2 2 2 2 3 2 2 2 2 1 4 3 4 4 1 2 1 2 2 1 2 2 2 2]\n"
          ],
          "name": "stdout"
        }
      ]
    },
    {
      "cell_type": "code",
      "metadata": {
        "id": "onKWriyIfUkq",
        "colab_type": "code",
        "colab": {}
      },
      "source": [
        ""
      ],
      "execution_count": null,
      "outputs": []
    }
  ]
}